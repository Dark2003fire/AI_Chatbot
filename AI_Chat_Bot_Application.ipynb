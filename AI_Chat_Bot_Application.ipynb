{
 "cells": [
  {
   "cell_type": "code",
   "execution_count": 1,
   "id": "90f96efc",
   "metadata": {},
   "outputs": [],
   "source": [
    "import numpy as np\n",
    "import nltk\n",
    "import string\n",
    "import random"
   ]
  },
  {
   "cell_type": "code",
   "execution_count": 2,
   "id": "f82f5b72",
   "metadata": {},
   "outputs": [
    {
     "name": "stderr",
     "output_type": "stream",
     "text": [
      "[nltk_data] Downloading package punkt to\n",
      "[nltk_data]     C:\\Users\\hjha0\\AppData\\Roaming\\nltk_data...\n",
      "[nltk_data]   Package punkt is already up-to-date!\n",
      "[nltk_data] Downloading package wordnet to\n",
      "[nltk_data]     C:\\Users\\hjha0\\AppData\\Roaming\\nltk_data...\n",
      "[nltk_data]   Package wordnet is already up-to-date!\n"
     ]
    }
   ],
   "source": [
    "f = open('Chatbot.txt' , 'r' ,errors= 'ignore')\n",
    "raw_doc = f.read()\n",
    "raw_doc = raw_doc.lower()  # This converts text  to lowercase\n",
    "nltk.download('punkt') #Using the Punkt tokenizer\n",
    "nltk.download('wordnet')#Using the WordNet dictionary\n",
    "sent_tokens = nltk.sent_tokenize(raw_doc) #Convert docs to  list of sentences\n",
    "word_tokens = nltk.word_tokenize(raw_doc)#convert docs to list of words"
   ]
  },
  {
   "cell_type": "code",
   "execution_count": 3,
   "id": "c3bda4ea",
   "metadata": {},
   "outputs": [
    {
     "data": {
      "text/plain": [
       "['data', 'science']"
      ]
     },
     "execution_count": 3,
     "metadata": {},
     "output_type": "execute_result"
    }
   ],
   "source": [
    "\n",
    "sent_tokens[1:5] \n",
    "word_tokens[:2]"
   ]
  },
  {
   "cell_type": "code",
   "execution_count": 5,
   "id": "a25a17f0",
   "metadata": {},
   "outputs": [],
   "source": [
    "\n",
    "#Text Preprocessing\n",
    "\n",
    "lemmer = nltk.stem.WordNetLemmatizer()\n",
    "def LemTokens(tokens):\n",
    "    return [lemmer.lemmatize(token) for token in tokens]\n",
    "remove_punct_dict = dict((ord(punct)  , None) for punct in string.punctuation)\n",
    "\n",
    "def LemNormalize(text):\n",
    "    return LemTokens(nltk.word_tokenize(text.lower().translate(remove_punct_dict)))"
   ]
  },
  {
   "cell_type": "code",
   "execution_count": null,
   "id": "1b94dde1",
   "metadata": {},
   "outputs": [],
   "source": [
    "\n",
    "Greetings_inp = (\"Hello\" ,\"Hi\" ,\"Greetings\" ,\"watsupp\" ,\"Heya\")\n",
    "Greetings_res = [\"hi\" , \"Hello\" ,\"hi there\" ,\"hello dude\", \"ha\", \"le\", \"u\", \"wa\" ,\"I'm happpy that you are talking to me\"]\n",
    "def Greet(sentence):\n",
    "    for word in sentence.split():\n",
    "        if word.lower() in Greetings_inp:\n",
    "            return random.choice(Greetings_res)"
   ]
  },
  {
   "cell_type": "code",
   "execution_count": null,
   "id": "e06b0918",
   "metadata": {},
   "outputs": [],
   "source": [
    "        \n",
    "from sklearn.feature_extraction.text import TfidfVectorizer\n",
    "from sklearn.metrics.pairwise import cosine_similarity\n"
   ]
  },
  {
   "cell_type": "code",
   "execution_count": null,
   "id": "297ac9a2",
   "metadata": {},
   "outputs": [],
   "source": [
    "def response(user_response):\n",
    "    bot_res = ''\n",
    "    TfidfVec = TfidfVectorizer(tokenizer=LemNormalize ,stop_words='english')\n",
    "    tfidf = TfidfVec.fit_transform(sent_tokens)\n",
    "    vals = cosine_similarity(tfidf[-1] ,tfidf)\n",
    "    idx = vals.argsort()[0][-2]\n",
    "    flat = vals.flatten()\n",
    "    flat.sort()\n",
    "    req_tfidf = flat[-2]\n",
    "    if(req_tfidf==0):\n",
    "        bot_res = bot_res+\"I'm Sorry ! I don't Understand you what you are saying\"\n",
    "        return bot_res\n",
    "    else :\n",
    "        bot_res = bot_res+sent_tokens[idx]\n",
    "        return bot_res\n"
   ]
  },
  {
   "cell_type": "code",
   "execution_count": null,
   "id": "87d84a28",
   "metadata": {},
   "outputs": [],
   "source": [
    "\n",
    "flag = True\n",
    "print(\"BOT : My name is Hitesh I'm your Personal BOT. Let's have conversation! And suppose you want to exit anytime you can say Hitesh Bbbye\")\n",
    "while(flag == True):\n",
    "    user_response = input()\n",
    "    user_response = user_response.lower()\n",
    "    if(user_response!='Hitesh Bbbye'):\n",
    "        if(user_response=='thanks' or user_response=='thank you'):\n",
    "            flag = False\n",
    "            print(\"BOT:You are Welcome....\")\n",
    "        else:\n",
    "            if(Greet(user_response)!=None):\n",
    "                print(\"BOT:\"+Greet(user_response))\n",
    "            else:\n",
    "                sent_tokens.append(user_response)\n",
    "                word_tokens = word_tokens+nltk.word_tokenize(user_response)\n",
    "                final_words = list(set(word_tokens))\n",
    "                print(\"BOT:\" ,end=\"\")\n",
    "                print(response(user_response))\n",
    "                sent_tokens.remove(user_response)\n",
    "                \n",
    "    else:\n",
    "        flag = False\n",
    "        print(\"BOT:GoodBye!  See youuuuuuuu Take Care< 3\")"
   ]
  },
  {
   "cell_type": "code",
   "execution_count": null,
   "id": "fe79f738",
   "metadata": {},
   "outputs": [],
   "source": []
  }
 ],
 "metadata": {
  "kernelspec": {
   "display_name": "Python 3 (ipykernel)",
   "language": "python",
   "name": "python3"
  },
  "language_info": {
   "codemirror_mode": {
    "name": "ipython",
    "version": 3
   },
   "file_extension": ".py",
   "mimetype": "text/x-python",
   "name": "python",
   "nbconvert_exporter": "python",
   "pygments_lexer": "ipython3",
   "version": "3.9.7"
  }
 },
 "nbformat": 4,
 "nbformat_minor": 5
}
